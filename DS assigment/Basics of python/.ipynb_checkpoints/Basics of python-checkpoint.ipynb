{
 "cells": [
  {
   "cell_type": "markdown",
   "id": "99d6d10a-aac4-408a-b213-88c2b6a0ab06",
   "metadata": {},
   "source": [
    "Exercise 1: Prime Numbers\n",
    "\n",
    "Write a Python program that checks whether a given number is prime or not. A prime number is a natural number greater than 1 that has no positive divisors other than 1 and itself."
   ]
  },
  {
   "cell_type": "code",
   "execution_count": 1,
   "id": "8a722dbd-628e-4c18-b752-485550d972f7",
   "metadata": {},
   "outputs": [
    {
     "name": "stdout",
     "output_type": "stream",
     "text": [
      "Enter a number to check weather its a prime number or not 7\n"
     ]
    },
    {
     "name": "stdout",
     "output_type": "stream",
     "text": [
      "7 is a Prime number\n"
     ]
    }
   ],
   "source": [
    "var_number = input(\"Enter a number to check weather its a prime number or not\") \n",
    "var_number = int(var_number)\n",
    "\n",
    "if(var_number<=1):\n",
    "    print(\"Enter a valid number as Prime Number can not be less that 2\")\n",
    "\n",
    "else:\n",
    "    is_Prime = True\n",
    "    for i in range(2,var_number):\n",
    "        if(var_number % i == 0):\n",
    "            is_Prime = False\n",
    "            break;   \n",
    "            \n",
    "    if is_Prime:\n",
    "        print(f\"{var_number} is a Prime number\")\n",
    "    else:\n",
    "        print(f\"{var_number} is not a prime number\")"
   ]
  },
  {
   "cell_type": "markdown",
   "id": "b7ac5443-9447-4ec4-8f0f-603c6602957c",
   "metadata": {},
   "source": [
    "________________________________________________________________________________________________________________________________________________________"
   ]
  },
  {
   "cell_type": "markdown",
   "id": "7295e7f3-2e54-4402-bea2-38d207f3f90d",
   "metadata": {},
   "source": [
    "Exercise 2: Product of Random Numbers\n",
    "\n",
    "Develop a Python program that generates two random numbers and asks the user to enter the product of these numbers. The program should then check if the user's answer is correct and display an appropriate message."
   ]
  },
  {
   "cell_type": "code",
   "execution_count": 2,
   "id": "bf34bedc-1fb1-44aa-8be9-190044c05a80",
   "metadata": {},
   "outputs": [
    {
     "name": "stdout",
     "output_type": "stream",
     "text": [
      "Lets check you Maths skill \n",
      " Multiply -271 and -643 \n",
      " And Enter you answer for verification\n"
     ]
    },
    {
     "name": "stdout",
     "output_type": "stream",
     "text": [
      " 174253\n"
     ]
    },
    {
     "name": "stdout",
     "output_type": "stream",
     "text": [
      "\n",
      "You are right, Multiplication of -271 * -643 = 174253\n"
     ]
    }
   ],
   "source": [
    "import random\n",
    "\n",
    "var1 = random.randint(-1000,1000)\n",
    "var2 = random.randint(-1000,1000)\n",
    "\n",
    "print(f\"Lets check you Maths skill \\n Multiply {var1} and {var2} \\n And Enter you answer for verification\")\n",
    "var3 = int(input())\n",
    "\n",
    "if (var3==var1*var2):\n",
    "    print(f\"\\nYou are right, Multiplication of {var1} * {var2} = {var3}\")\n",
    "else:\n",
    "    print(f\"\\nOops!! wanna try again because multiplication of {var1} and {var2} id {var1*var2}, not {var3}\")"
   ]
  },
  {
   "cell_type": "markdown",
   "id": "7b5d7b71-92b8-4399-a549-bedff7b85c80",
   "metadata": {},
   "source": [
    "________________________________________________________________________________________________________________________________________________________"
   ]
  },
  {
   "cell_type": "markdown",
   "id": "c18ef872-5b9f-4138-8a2d-d49bafa7824f",
   "metadata": {},
   "source": [
    "Exercise 3: Squares of Even/Odd Numbers\n",
    "\n",
    "Create a Python script that prints the squares of all even or odd numbers within the range of 100 to 200. Choose either even or odd numbers and document your choice in the code."
   ]
  },
  {
   "cell_type": "code",
   "execution_count": 3,
   "id": "7e02eeb9-64ed-411a-bca1-d9432718afa2",
   "metadata": {},
   "outputs": [
    {
     "name": "stdout",
     "output_type": "stream",
     "text": [
      "Select\n",
      "1: Square of Even numbers from 100 to 200\n",
      "2: Square of Odd numbers from 100 to 200\n"
     ]
    },
    {
     "name": "stdout",
     "output_type": "stream",
     "text": [
      " 1\n"
     ]
    },
    {
     "name": "stdout",
     "output_type": "stream",
     "text": [
      "100 * 100 = 10000\n",
      "102 * 102 = 10404\n",
      "104 * 104 = 10816\n",
      "106 * 106 = 11236\n",
      "108 * 108 = 11664\n",
      "110 * 110 = 12100\n",
      "112 * 112 = 12544\n",
      "114 * 114 = 12996\n",
      "116 * 116 = 13456\n",
      "118 * 118 = 13924\n",
      "120 * 120 = 14400\n",
      "122 * 122 = 14884\n",
      "124 * 124 = 15376\n",
      "126 * 126 = 15876\n",
      "128 * 128 = 16384\n",
      "130 * 130 = 16900\n",
      "132 * 132 = 17424\n",
      "134 * 134 = 17956\n",
      "136 * 136 = 18496\n",
      "138 * 138 = 19044\n",
      "140 * 140 = 19600\n",
      "142 * 142 = 20164\n",
      "144 * 144 = 20736\n",
      "146 * 146 = 21316\n",
      "148 * 148 = 21904\n",
      "150 * 150 = 22500\n",
      "152 * 152 = 23104\n",
      "154 * 154 = 23716\n",
      "156 * 156 = 24336\n",
      "158 * 158 = 24964\n",
      "160 * 160 = 25600\n",
      "162 * 162 = 26244\n",
      "164 * 164 = 26896\n",
      "166 * 166 = 27556\n",
      "168 * 168 = 28224\n",
      "170 * 170 = 28900\n",
      "172 * 172 = 29584\n",
      "174 * 174 = 30276\n",
      "176 * 176 = 30976\n",
      "178 * 178 = 31684\n",
      "180 * 180 = 32400\n",
      "182 * 182 = 33124\n",
      "184 * 184 = 33856\n",
      "186 * 186 = 34596\n",
      "188 * 188 = 35344\n",
      "190 * 190 = 36100\n",
      "192 * 192 = 36864\n",
      "194 * 194 = 37636\n",
      "196 * 196 = 38416\n",
      "198 * 198 = 39204\n",
      "200 * 200 = 40000\n"
     ]
    }
   ],
   "source": [
    "print(\"Select\\n1: Square of Even numbers from 100 to 200\\n2: Square of Odd numbers from 100 to 200\")\n",
    "snum = input()\n",
    "snum = int(snum)\n",
    "\n",
    "if(snum == 1):\n",
    "    for i in range(100,201):\n",
    "        if(i % 2 == 0):\n",
    "            print(f\"{i} * {i} = {pow(i,2)}\")\n",
    "\n",
    "elif(snum == 2):\n",
    "    for i in range(100,201):\n",
    "        if(i % 2!= 0):\n",
    "            print(f\"{i} * {i} = {pow(i,2)}\")"
   ]
  },
  {
   "cell_type": "markdown",
   "id": "ef9ea378-2f95-4731-b3fc-9e11476f30b0",
   "metadata": {},
   "source": [
    "________________________________________________________________________________________________________________________________________________________"
   ]
  },
  {
   "cell_type": "markdown",
   "id": "a60fd68f-ee0e-42b9-a51c-36544d895261",
   "metadata": {},
   "source": [
    "Exercise 4: Word counter\n",
    "\n",
    "Write a program to count the number of words in a given text.\n",
    "\n",
    "Example:\n",
    "\n",
    "Input_text = \"This is a sample text. This text will be used to demonstrate the word counter.\"\n",
    "\n",
    "Expected output:\n",
    "'This': 2 \n",
    "'is': 1\n",
    "'a': 1\n",
    "'sample': 1\n",
    "'text.': 1\n"
   ]
  },
  {
   "cell_type": "code",
   "execution_count": 4,
   "id": "ba4785bb-a2c2-4855-bb53-916ac67eaac7",
   "metadata": {},
   "outputs": [
    {
     "name": "stdout",
     "output_type": "stream",
     "text": [
      "Enter a sentence We all make rules for ourselves. It’s these rules that help define who we are. So, when we break those rules, we risk losing ourselves and becoming something unknown.\n"
     ]
    },
    {
     "name": "stdout",
     "output_type": "stream",
     "text": [
      "\n",
      "\n",
      "'We': 1\n",
      "'all': 1\n",
      "'make': 1\n",
      "'rules': 3\n",
      "'for': 1\n",
      "'ourselves': 2\n",
      "'Its': 1\n",
      "'these': 1\n",
      "'that': 1\n",
      "'help': 1\n",
      "'define': 1\n",
      "'who': 1\n",
      "'we': 3\n",
      "'are': 1\n",
      "'So': 1\n",
      "'when': 1\n",
      "'break': 1\n",
      "'those': 1\n",
      "'risk': 1\n",
      "'losing': 1\n",
      "'and': 1\n",
      "'becoming': 1\n",
      "'something': 1\n",
      "'unknown': 1\n"
     ]
    }
   ],
   "source": [
    "import re\n",
    "word_str = input(\"Enter a sentence\")\n",
    "word_str = re.sub(r\"[^\\w\\s]\",\"\", word_str)\n",
    "words = word_str.split()\n",
    "word_dict = {}\n",
    "\n",
    "for i in words:\n",
    "    if i in word_dict:\n",
    "        word_dict[i] = word_dict[i] + 1\n",
    "    else:\n",
    "        word_dict[i] = 1\n",
    "\n",
    "print(\"\\n\")\n",
    "for j, c in word_dict.items():\n",
    "    print(f\"'{j}': {c}\")\n",
    "\n",
    "#We all make rules for ourselves. It’s these rules that help define who we are. So, when we break those rules, we risk losing ourselves and becoming something unknown."
   ]
  },
  {
   "cell_type": "markdown",
   "id": "4f84b721-210f-4b7e-b907-2dc535e78ab7",
   "metadata": {},
   "source": [
    "________________________________________________________________________________________________________________________________________________________"
   ]
  },
  {
   "cell_type": "markdown",
   "id": "c29e1e4b-4645-4bc2-88f5-0d0e4c148e77",
   "metadata": {},
   "source": [
    "Exercise 5: Check for Palindrome\n",
    "\n",
    "Write a Python function called is_palindrome that takes a string as input and returns True if the string is a palindrome, and False otherwise. A palindrome is a word, phrase, number, or other sequence of characters that reads the same forward and backward, ignoring spaces, punctuation, and capitalization.\n",
    "\n",
    "Example:\n",
    "Input: \"racecar\"\n",
    "Expected Output: True"
   ]
  },
  {
   "cell_type": "code",
   "execution_count": 5,
   "id": "7c38aa7e-a629-4579-b16b-288cce6572d0",
   "metadata": {},
   "outputs": [
    {
     "name": "stdout",
     "output_type": "stream",
     "text": [
      "Enter the string to check for Palindrom A man, a plan, a canal: Panama!\n"
     ]
    },
    {
     "name": "stdout",
     "output_type": "stream",
     "text": [
      "amanaplanacanalpanama is indeed a Palindrom\n"
     ]
    }
   ],
   "source": [
    "import re\n",
    "wrd = input(\"Enter the string to check for Palindrom\")\n",
    "wrd = wrd.lower().strip()\n",
    "wrd = re.sub(r\"[^\\w]\", \"\", wrd)\n",
    "\n",
    "\n",
    "def is_palindrom(word):\n",
    "    if(word == word[::-1]):\n",
    "        print(f\"{word} is indeed a Palindrom\")\n",
    "    else:\n",
    "        print(f\"{word} is NOT a Palindrom\")\n",
    "\n",
    "is_palindrom(wrd)\n",
    "\n",
    "#A man, a plan, a canal: Panama!"
   ]
  }
 ],
 "metadata": {
  "kernelspec": {
   "display_name": "Python 3 (ipykernel)",
   "language": "python",
   "name": "python3"
  },
  "language_info": {
   "codemirror_mode": {
    "name": "ipython",
    "version": 3
   },
   "file_extension": ".py",
   "mimetype": "text/x-python",
   "name": "python",
   "nbconvert_exporter": "python",
   "pygments_lexer": "ipython3",
   "version": "3.12.7"
  }
 },
 "nbformat": 4,
 "nbformat_minor": 5
}
